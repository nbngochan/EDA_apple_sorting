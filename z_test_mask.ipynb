{
 "cells": [
  {
   "cell_type": "code",
   "execution_count": 1,
   "metadata": {},
   "outputs": [],
   "source": [
    "import numpy as np\n",
    "import pandas as pd\n",
    "import cv2"
   ]
  },
  {
   "cell_type": "code",
   "execution_count": 9,
   "metadata": {},
   "outputs": [],
   "source": [
    "def extract(method, image_path):\n",
    "    image = cv2.imread(image_path)\n",
    "    # apple color boundaries [B, G, R]\n",
    "    lower = [0, 0, 0]\n",
    "    upper = [179, 255, 125]\n",
    "\n",
    "    # create NumPy arrays from the boundaries\n",
    "    lower = np.array(lower, dtype=\"uint8\")\n",
    "    upper = np.array(upper, dtype=\"uint8\")\n",
    "    if method == 'hsv':\n",
    "        image = cv2.cvtColor(image, cv2.COLOR_BGR2HSV)\n",
    "        # Find the colors within the specified boundaries and apply the mask\n",
    "        binary = cv2.inRange(image, lower, upper)\n",
    "        cv2.imwrite('z_binary.jpg', binary)\n",
    "        # _, thresh = cv2.threshold(binary, 40, 255, 0)\n",
    "\n",
    "        # # cv2.imwrite('z_binary.jpg', thresh)\n",
    "        \n",
    "        contours, _ = cv2.findContours(binary, cv2.RETR_EXTERNAL, cv2.CHAIN_APPROX_NONE)\n",
    "        sorted_contours= sorted(contours, key=cv2.contourArea, reverse= True)\n",
    "        largest_item = sorted_contours[0]\n",
    "        area = cv2.contourArea(largest_item)\n",
    "        \n",
    "        # Obtain binary mask from largest contour\n",
    "        mask = np.zeros_like(image[:,:,0])\n",
    "        cv2.drawContours(mask, [largest_item], -1, 255, -1)\n",
    "\n",
    "    if method == 'canny':\n",
    "        gray = cv2.cvtColor(image, cv2.COLOR_BGR2GRAY)\n",
    "        cv2.imwrite('z_gray.jpg', gray)\n",
    "        v = np.median(gray)\n",
    "        sigma = 0.33\n",
    "        \n",
    "        # Applying automatic Canny edge detection using the computed median\n",
    "        lower = int(max(0, (1.0 - sigma) * v))\n",
    "        upper = int(min(255, (1.0 + sigma) * v))\n",
    "        edge = cv2.Canny(gray, lower, upper)\n",
    "        cv2.imwrite('z_edge_0.jpg', edge)\n",
    "        \n",
    "        # Close the edges\n",
    "        kernel = cv2.getStructuringElement(cv2.MORPH_RECT, (5,5))\n",
    "        edge = cv2.morphologyEx(edge, cv2.MORPH_CLOSE, kernel)\n",
    "        cv2.imwrite('z_edge.jpg', edge)\n",
    "        \n",
    "        contours, _ = cv2.findContours(edge, cv2.RETR_EXTERNAL, cv2.CHAIN_APPROX_SIMPLE)\n",
    "\n",
    "        largest_contour = max(contours, key=cv2.contourArea)\n",
    "        area = cv2.contourArea(largest_contour)\n",
    "        mask = np.zeros_like(gray)\n",
    "        cv2.drawContours(mask, [largest_contour], -1, 255, -1)\n",
    "\n",
    "    if method == 'otsu':\n",
    "        gray = cv2.cvtColor(image, cv2.COLOR_BGR2GRAY)\n",
    "        cv2.imwrite('z_gray.jpg', gray)\n",
    "        \n",
    "        # Ostu thresholding\n",
    "        ret, thresh = cv2.threshold(gray,0,255,cv2.THRESH_BINARY_INV+cv2.THRESH_OTSU)\n",
    "        cv2.imwrite('z_otsu.jpg', thresh)\n",
    "        contours, _ = cv2.findContours(thresh, cv2.RETR_EXTERNAL, cv2.CHAIN_APPROX_SIMPLE)\n",
    "\n",
    "        largest_contour = max(contours, key=cv2.contourArea)\n",
    "        area = cv2.contourArea(largest_contour)\n",
    "        mask = np.zeros_like(gray)\n",
    "        cv2.drawContours(mask, [largest_contour], -1, 255, -1)\n",
    "    cv2.imwrite('z_mask.jpg', mask)\n",
    "    return mask\n",
    "            "
   ]
  },
  {
   "cell_type": "code",
   "execution_count": 3,
   "metadata": {},
   "outputs": [
    {
     "name": "stdout",
     "output_type": "stream",
     "text": [
      "/mnt/data/dataset/apple-weight-dataset/v2/3145-87/image0005362.png\n"
     ]
    }
   ],
   "source": [
    "dataset = pd.read_csv('./assets/v2/dataset_v2.csv')\n",
    "han = dataset.sample(5, random_state=44)\n",
    "print(han.iloc[4]['image_path'])"
   ]
  },
  {
   "cell_type": "code",
   "execution_count": 15,
   "metadata": {},
   "outputs": [
    {
     "data": {
      "text/plain": [
       "array([[0, 0, 0, ..., 0, 0, 0],\n",
       "       [0, 0, 0, ..., 0, 0, 0],\n",
       "       [0, 0, 0, ..., 0, 0, 0],\n",
       "       ...,\n",
       "       [0, 0, 0, ..., 0, 0, 0],\n",
       "       [0, 0, 0, ..., 0, 0, 0],\n",
       "       [0, 0, 0, ..., 0, 0, 0]], dtype=uint8)"
      ]
     },
     "execution_count": 15,
     "metadata": {},
     "output_type": "execute_result"
    }
   ],
   "source": [
    "methods = {1: 'hsv', 2: 'canny', 3: 'otsu'}\n",
    "image_path = han.iloc[4]['image_path']\n",
    "extract(methods[1], image_path)"
   ]
  }
 ],
 "metadata": {
  "kernelspec": {
   "display_name": "torch",
   "language": "python",
   "name": "python3"
  },
  "language_info": {
   "codemirror_mode": {
    "name": "ipython",
    "version": 3
   },
   "file_extension": ".py",
   "mimetype": "text/x-python",
   "name": "python",
   "nbconvert_exporter": "python",
   "pygments_lexer": "ipython3",
   "version": "3.10.13"
  }
 },
 "nbformat": 4,
 "nbformat_minor": 2
}
